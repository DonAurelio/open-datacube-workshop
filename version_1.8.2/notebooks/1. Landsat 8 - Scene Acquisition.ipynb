{
 "cells": [
  {
   "cell_type": "markdown",
   "metadata": {},
   "source": [
    "### Introduction\n",
    "\n",
    "In this section we will download a Landsat 8 Scene from the **USGS Earth Explorer Catalog**. Then, we will identify the components of a multi-spectral image provided by the catalog. In the next section, we will index the scenes into the datacube for further analysis. \n",
    "\n",
    "### Download Landsat 8 Scenes\n",
    "\n",
    "Landsat satellites collect pictures of earth called scenes. Colombia is covered by approximately 86 scenes of Landsat as depicted bellow. The yellow squares represent the scenes and red squares are called tiles.\n",
    "\n",
    "![alt text](https://raw.githubusercontent.com/DonAurelio/open-datacube-workshop/master/docs/colombia_scenes.png)\n",
    "\n",
    "Each yellow square is labeled using the **path-row** notation. This notation allow user reference any Landsat scene specifying the PATH and ROW numbers. We can obtain scenes based on this notation using the [EarthExplorer](https://earthexplorer.usgs.gov/), this viewer require you to be registered. We will request scenes from 01/01/2016 to 12/31/2018 for the PATH=5 and ROW=57. This scene cover part of Vichada Department in Colombia. \n",
    "\n",
    "![alt text](https://raw.githubusercontent.com/DonAurelio/open-datacube-workshop/master/docs/ee_1.png)\n",
    "\n",
    "\n",
    "The next step is the selection of the Scene Collection (Dataset). We will use the Landsat Collection 1 - Level-2 (On-Demand). Each level of the Landsat collection performs different image corrections intended for different analysis. In particular, Level 2 performs Surface Reflectance Correction to mitigate atmospheric effects over images (scenes). Further information about Landsat Collection Levels can be found in [3].\n",
    "\n",
    "![alt text](https://raw.githubusercontent.com/DonAurelio/open-datacube-workshop/master/docs/ee_2.png)\n",
    "\n",
    "After the Landsat Collection selection, we will get the scenes that match the criteria specified before. We have to select each scene we are interested in. A click on the **shopping cart icon** will select the scene to be downloaded.  The image icon will display a preview of the scene on the map. After selecting the images you should use the button **View Item Basket** to request the scenes. This request order will take several minutes since images are pre-processed (corrected) on-demand. \n",
    "\n",
    "![alt text](https://raw.githubusercontent.com/DonAurelio/open-datacube-workshop/master/docs/ee_3.png)\n",
    "\n",
    "You will receive and email on which the Earth Explorer platform will confirm the reception of your order, i.e., your request is in a queue waiting for being processed. A link may be available to track the status of your order.\n",
    "\n",
    "![alt text](https://raw.githubusercontent.com/DonAurelio/open-datacube-workshop/master/docs/ee_4.png)\n",
    "\n",
    "Once the order starts being processed, another email will be sent. \n",
    "\n",
    "![alt text](https://raw.githubusercontent.com/DonAurelio/open-datacube-workshop/master/docs/ee_5.png)\n",
    "\n",
    "So you can check the status of your order using the link provided in the email.\n",
    "\n",
    "![alt text](https://raw.githubusercontent.com/DonAurelio/open-datacube-workshop/master/docs/ee_6.png)\n",
    "\n",
    "Another email will be sent when the processing is completed and requested scenes are ready to be downloaded. Open the link.\n",
    "\n",
    "![alt text](https://raw.githubusercontent.com/DonAurelio/open-datacube-workshop/master/docs/ee_7.png)\n",
    "\n",
    "Select the order\n",
    "\n",
    "![alt text](https://raw.githubusercontent.com/DonAurelio/open-datacube-workshop/master/docs/ee_8.png)\n",
    "\n",
    "Download the scene\n",
    "\n",
    "![alt text](https://raw.githubusercontent.com/DonAurelio/open-datacube-workshop/master/docs/ee_9.png)\n",
    "\n",
    "Place the .tar.gz file into the **/notebooks/data** directory."
   ]
  },
  {
   "cell_type": "markdown",
   "metadata": {},
   "source": [
    "Use the following command to check if you can see the .tar.gz file into the **data** directory. **Note: Probably your .tar.gz file have a different name.**"
   ]
  },
  {
   "cell_type": "code",
   "execution_count": 2,
   "metadata": {},
   "outputs": [
    {
     "name": "stdout",
     "output_type": "stream",
     "text": [
      "total 410084\r\n",
      "-rw-rw-r-- 1 datacube datacube 419914286 Jul  7  2019 LC080050572017122201T1-SC20190705222048.tar.gz\r\n"
     ]
    }
   ],
   "source": [
    "!ls -l data/"
   ]
  },
  {
   "cell_type": "markdown",
   "metadata": {},
   "source": [
    "Create a directory to unzip the content of the .tar.gz file"
   ]
  },
  {
   "cell_type": "code",
   "execution_count": 3,
   "metadata": {},
   "outputs": [],
   "source": [
    "!mkdir -p data/scene_content"
   ]
  },
  {
   "cell_type": "markdown",
   "metadata": {},
   "source": [
    "Unzip the .tar.gz file into the **data/scene_content** directory."
   ]
  },
  {
   "cell_type": "code",
   "execution_count": 7,
   "metadata": {},
   "outputs": [
    {
     "name": "stdout",
     "output_type": "stream",
     "text": [
      "LC08_L1TP_005057_20171222_20180103_01_T1_radsat_qa.tif\n",
      "LC08_L1TP_005057_20171222_20180103_01_T1_MTL.txt\n",
      "LC08_L1TP_005057_20171222_20180103_01_T1_sr_band7.tif\n",
      "LC08_L1TP_005057_20171222_20180103_01_T1.xml\n",
      "LC08_L1TP_005057_20171222_20180103_01_T1_ANG.txt\n",
      "LC08_L1TP_005057_20171222_20180103_01_T1_sr_band6.tif\n",
      "LC08_L1TP_005057_20171222_20180103_01_T1_sr_aerosol.tif\n",
      "LC08_L1TP_005057_20171222_20180103_01_T1_sr_band3.tif\n",
      "LC08_L1TP_005057_20171222_20180103_01_T1_sr_band1.tif\n",
      "LC08_L1TP_005057_20171222_20180103_01_T1_sr_band2.tif\n",
      "LC08_L1TP_005057_20171222_20180103_01_T1_sr_band5.tif\n",
      "LC08_L1TP_005057_20171222_20180103_01_T1_pixel_qa.tif\n",
      "LC08_L1TP_005057_20171222_20180103_01_T1_sr_band4.tif\n"
     ]
    }
   ],
   "source": [
    "!tar -vxzf data/LC080050572017122201T1-SC20190705222048.tar.gz -C data/scene_content"
   ]
  },
  {
   "cell_type": "markdown",
   "metadata": {},
   "source": [
    "List the content of the **data/scene_content** directory."
   ]
  },
  {
   "cell_type": "code",
   "execution_count": 8,
   "metadata": {},
   "outputs": [
    {
     "name": "stdout",
     "output_type": "stream",
     "text": [
      "total 1091072\r\n",
      "-rw-r--r-- 1 datacube datacube     11360 Jul  6  2019 LC08_L1TP_005057_20171222_20180103_01_T1.xml\r\n",
      "-rw-r--r-- 1 datacube datacube    117248 Jan  3  2018 LC08_L1TP_005057_20171222_20180103_01_T1_ANG.txt\r\n",
      "-rw-r--r-- 1 datacube datacube      8688 Jul  6  2019 LC08_L1TP_005057_20171222_20180103_01_T1_MTL.txt\r\n",
      "-rw-r--r-- 1 datacube datacube 117583245 Jul  6  2019 LC08_L1TP_005057_20171222_20180103_01_T1_pixel_qa.tif\r\n",
      "-rw-r--r-- 1 datacube datacube 117583223 Jul  6  2019 LC08_L1TP_005057_20171222_20180103_01_T1_radsat_qa.tif\r\n",
      "-rw-r--r-- 1 datacube datacube  58822926 Jul  6  2019 LC08_L1TP_005057_20171222_20180103_01_T1_sr_aerosol.tif\r\n",
      "-rw-r--r-- 1 datacube datacube 117583251 Jul  6  2019 LC08_L1TP_005057_20171222_20180103_01_T1_sr_band1.tif\r\n",
      "-rw-r--r-- 1 datacube datacube 117583251 Jul  6  2019 LC08_L1TP_005057_20171222_20180103_01_T1_sr_band2.tif\r\n",
      "-rw-r--r-- 1 datacube datacube 117583251 Jul  6  2019 LC08_L1TP_005057_20171222_20180103_01_T1_sr_band3.tif\r\n",
      "-rw-r--r-- 1 datacube datacube 117583251 Jul  6  2019 LC08_L1TP_005057_20171222_20180103_01_T1_sr_band4.tif\r\n",
      "-rw-r--r-- 1 datacube datacube 117583251 Jul  6  2019 LC08_L1TP_005057_20171222_20180103_01_T1_sr_band5.tif\r\n",
      "-rw-r--r-- 1 datacube datacube 117583251 Jul  6  2019 LC08_L1TP_005057_20171222_20180103_01_T1_sr_band6.tif\r\n",
      "-rw-r--r-- 1 datacube datacube 117583251 Jul  6  2019 LC08_L1TP_005057_20171222_20180103_01_T1_sr_band7.tif\r\n"
     ]
    }
   ],
   "source": [
    "!ls -l data/scene_content/"
   ]
  },
  {
   "cell_type": "markdown",
   "metadata": {},
   "source": [
    "### Landsat 8 Collection 1 - Level 2 (On demand) .tar.gz file naming convention\n",
    "\n",
    "As depicted in the last command, a single Landsat Scene is composed of several files. \n",
    "In particular the .tif files band1...7 are the bands of the multi-spectral scene (image).\n",
    "pixel_qa, radsat_qa and aerosol are quality bands generated by the LARSC correction algorithm. \n",
    "the _sr__ used on each band stands for Surface Reflectance corrected images.\n",
    "\n",
    "As ordered scenes are atmospherically corrected, the resulting ones are compressed in tar.gz file \n",
    "with the following naming convention:\n",
    "\n",
    "For Example: LC080030572019050401T1-SC20190909195339\n",
    "\n",
    "* L = Landsat\n",
    "* C = Sensor (“C”=OLI/TIRS combined, “O”=OLI-only, “T”=TIRS-only, “E”=ETM+, “T”=“TM, “M”=MSS)\n",
    "* 08 = Satellite (”07”=Landsat 7, “08”=Landsat 8)\n",
    "* 003 = WRS path\n",
    "* 057 = WRS row\n",
    "* 20190504 = Acquisition date year, month, day (2019/05/04)\n",
    "* 01 = Collection number (01, 02, …)\n",
    "* T1 = Collection category (“RT”=Real-Time, “T1”=Tier 1, “T2”=Tier 2)\n",
    "\n",
    "Probably this part is related with the day the scene was processed for atmospheric correction.\n",
    "\n",
    "* SC = (To be verified...)\n",
    "* 20190909195339 = Processing year, month, day, hour, min, sec (2019/09/09 - 19:53:39)\n",
    "\n",
    "### Landsat Image Identifier\n",
    "\n",
    "Scenes or images have unique identifiers that provide relevant information about the satellite \n",
    "from which they were taken and other relevant data about the scene, \n",
    "for example: **LC08_L1TP_005057_20171222_20180103_01_T1** is the identifier of the image (scene) we have downloaded,\n",
    "this name is present in all .tif files. Further information about this naming convention in [9].\n",
    "\n",
    "### Landsat 8 Surface Reflectance Scenes\n",
    "\n",
    "**Landsat 8 OLI LASRC** scenes we will use on this workshop are images belonging to the Collection 1 - Level 2 \n",
    "(On demand) of the USGS Earth Explorer Image Catalog. Level 2 images have atmospheric Surface Reflectance \n",
    "corrections (SR). These corrections mitigate the effect of gases and aerosols that are in the atmosphere and \n",
    "can affect the reflectance of the earth read by the satellite (sensor). \n",
    "Atmospheric corrections in Landsat 8 are carried out by the LASRC algorithm (Landsat Surface Reflectance Code)\n",
    "\n",
    "During the generation of the corrected surface reflectance scenes, the LASRC algorithm evaluates the quality \n",
    "of each pixel on the image. This information is recorded in 3 additional bands \n",
    "(**aerosol**, **pixel_qa**, **radsat_qa**) that are generated at the end of the reflectance correction."
   ]
  },
  {
   "cell_type": "markdown",
   "metadata": {},
   "source": [
    "### References\n",
    "\n",
    "1. [The Worldwide Reference System](https://landsat.gsfc.nasa.gov/the-worldwide-reference-system/)\n",
    "2. [Cuadrícula Landsat para Colombia](https://www.arcgis.com/home/webmap/viewer.html?webmap=6e2a67d6808c4752afc1a9080ae42390)\n",
    "3. [Landsat Science Products - Collection Levels](https://www.usgs.gov/land-resources/nli/landsat/landsat-science-products)\n",
    "4. [Landsat Surface Reflectance](https://www.usgs.gov/land-resources/nli/landsat/landsat-surface-reflectance?qt-science_support_page_related_con=0#qt-science_support_page_related_con)\n",
    "5. [USGS EROS Archive - Landsat Archives - Landsat 8 OLI/TIRS Level-2 Data Products - Surface Reflectance](https://www.usgs.gov/centers/eros/science/usgs-eros-archive-landsat-archives-landsat-8-olitirs-level-2-data-products?qt-science_center_objects=0#qt-science_center_objects)\n",
    "6. [Landsat File Naming Convention – Scene Identifiers](https://gisgeography.com/landsat-file-naming-convention/)\n",
    "7. [Pre collection identifier](https://landsat.usgs.gov/sites/default/files/images/Scene_ProductID_compare-.jpg)\n",
    "8. [Google Earth Engine, Landsat collection structure](https://developers.google.com/earth-engine/landsat)\n",
    "9. [What is the naming convention for Landsat Collections Level-1 scenes?](https://www.usgs.gov/faqs/what-naming-convention-landsat-collections-level-1-scenes?qt-news_science_products=0#qt-news_science_products)\n",
    "10. [Designación de Bandas para Satelites Landsat](https://www.usgs.gov/faqs/what-are-band-designations-landsat-satellites?qt-news_science_products=0#qt-news_science_products)\n",
    "11. [Evaluación de la Calidad de los Pixeles en Landsat 8](https://www.usgs.gov/land-resources/nli/landsat/landsat-8-surface-reflectance-quality-assessment?qt-science_support_page_related_con=1#qt-science_support_page_related_con)\n",
    "12. [Lansat Surface Reflectance Code (LASRC) Product Guide](https://prd-wret.s3-us-west-2.amazonaws.com/assets/palladium/production/atoms/files/LSDS-1368_L8_SurfaceReflectanceCode-LASRC_ProductGuide-v2.pdf)"
   ]
  }
 ],
 "metadata": {
  "kernelspec": {
   "display_name": "Python 3",
   "language": "python",
   "name": "python3"
  },
  "language_info": {
   "codemirror_mode": {
    "name": "ipython",
    "version": 3
   },
   "file_extension": ".py",
   "mimetype": "text/x-python",
   "name": "python",
   "nbconvert_exporter": "python",
   "pygments_lexer": "ipython3",
   "version": "3.6.9"
  }
 },
 "nbformat": 4,
 "nbformat_minor": 4
}
